{
 "cells": [
  {
   "cell_type": "markdown",
   "id": "2152ee2d",
   "metadata": {},
   "source": [
    "# Loops And Arrays"
   ]
  },
  {
   "cell_type": "code",
   "execution_count": 6,
   "id": "096f6a65",
   "metadata": {},
   "outputs": [
    {
     "name": "stdout",
     "output_type": "stream",
     "text": [
      "3\n"
     ]
    }
   ],
   "source": [
    "arr = [3, 0, 1]\n",
    "print(x[0])"
   ]
  },
  {
   "cell_type": "code",
   "execution_count": 7,
   "id": "f86f7abb",
   "metadata": {},
   "outputs": [
    {
     "name": "stdout",
     "output_type": "stream",
     "text": [
      "0 3\n",
      "1 0\n",
      "2 1\n"
     ]
    }
   ],
   "source": [
    "for i in range(len(arr)):\n",
    "    print(i, arr[i])"
   ]
  },
  {
   "cell_type": "code",
   "execution_count": 8,
   "id": "28a738dd",
   "metadata": {},
   "outputs": [
    {
     "data": {
      "text/plain": [
       "28"
      ]
     },
     "execution_count": 8,
     "metadata": {},
     "output_type": "execute_result"
    }
   ],
   "source": [
    "def compute_sum(arr):\n",
    "    result = 0\n",
    "    for i in range(len(arr)):\n",
    "        result = result + arr[i]\n",
    "    return result\n",
    "\n",
    "compute_sum([1, 7, 4, 3, 0, 1, 3, 7, 2])"
   ]
  },
  {
   "cell_type": "code",
   "execution_count": 9,
   "id": "e6519a9c",
   "metadata": {},
   "outputs": [
    {
     "data": {
      "text/plain": [
       "3.111111111111111"
      ]
     },
     "execution_count": 9,
     "metadata": {},
     "output_type": "execute_result"
    }
   ],
   "source": [
    "def compute_average(arr):\n",
    "    result = 0\n",
    "    for i in range(len(arr)):\n",
    "        result = result + arr[i]\n",
    "    return result/len(arr)\n",
    "\n",
    "compute_average([1, 7, 4, 3, 0, 1, 3, 7, 2])"
   ]
  },
  {
   "cell_type": "code",
   "execution_count": 10,
   "id": "5a628544",
   "metadata": {},
   "outputs": [
    {
     "name": "stdout",
     "output_type": "stream",
     "text": [
      "12\n"
     ]
    }
   ],
   "source": [
    "def add_even_numbers(arr):\n",
    "    result = 0\n",
    "    for i in range(len(arr)):\n",
    "        if arr[i] %2 == 0: # If the number at index i is even\n",
    "            result = result + arr[i]\n",
    "    return result\n",
    "\n",
    "print(add_even_numbers([1, 2, 3, 4, 5, 6]))"
   ]
  },
  {
   "cell_type": "code",
   "execution_count": 14,
   "id": "76c13150",
   "metadata": {},
   "outputs": [
    {
     "name": "stdout",
     "output_type": "stream",
     "text": [
      "(0, 1) (3, 7)\n",
      "(0, 2) (3, 1)\n",
      "(0, 3) (3, 1)\n",
      "(0, 4) (3, 7)\n",
      "(0, 5) (3, 4)\n",
      "(1, 2) (7, 1)\n",
      "(1, 3) (7, 1)\n",
      "(1, 4) (7, 7)\n",
      "(1, 5) (7, 4)\n",
      "(2, 3) (1, 1)\n",
      "(2, 4) (1, 7)\n",
      "(2, 5) (1, 4)\n",
      "(3, 4) (1, 7)\n",
      "(3, 5) (1, 4)\n",
      "(4, 5) (7, 4)\n"
     ]
    }
   ],
   "source": [
    "def print_pairs(arr):\n",
    "    for i in range(len(arr)):\n",
    "        # For each index, I want to check every other index\n",
    "        for j in range(i+1, len(arr)):\n",
    "            print((i, j), (arr[i], arr[j]))\n",
    "\n",
    "print_pairs([3, 7, 1, 1, 7, 4])"
   ]
  },
  {
   "cell_type": "code",
   "execution_count": null,
   "id": "48258c45",
   "metadata": {},
   "outputs": [],
   "source": []
  }
 ],
 "metadata": {
  "kernelspec": {
   "display_name": "Python 3 (ipykernel)",
   "language": "python",
   "name": "python3"
  },
  "language_info": {
   "codemirror_mode": {
    "name": "ipython",
    "version": 3
   },
   "file_extension": ".py",
   "mimetype": "text/x-python",
   "name": "python",
   "nbconvert_exporter": "python",
   "pygments_lexer": "ipython3",
   "version": "3.9.13"
  }
 },
 "nbformat": 4,
 "nbformat_minor": 5
}
