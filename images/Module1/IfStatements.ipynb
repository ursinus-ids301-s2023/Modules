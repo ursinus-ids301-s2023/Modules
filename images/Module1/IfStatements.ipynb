{
 "cells": [
  {
   "cell_type": "markdown",
   "id": "2fa9be24",
   "metadata": {},
   "source": [
    "# If Statements\n",
    "\n",
    "An if statement is a \"branch\" or \"fork in the road.\"  We can have our code do one of multiple things at runtime based on a check that we perform"
   ]
  },
  {
   "cell_type": "code",
   "execution_count": 1,
   "id": "f4924b89",
   "metadata": {},
   "outputs": [],
   "source": [
    "x = 301 # Single equals is an \"assignment\""
   ]
  },
  {
   "cell_type": "code",
   "execution_count": 2,
   "id": "fcfcf3ef",
   "metadata": {},
   "outputs": [
    {
     "data": {
      "text/plain": [
       "True"
      ]
     },
     "execution_count": 2,
     "metadata": {},
     "output_type": "execute_result"
    }
   ],
   "source": [
    "x > 300"
   ]
  },
  {
   "cell_type": "code",
   "execution_count": 3,
   "id": "00fd9dc7",
   "metadata": {},
   "outputs": [
    {
     "data": {
      "text/plain": [
       "False"
      ]
     },
     "execution_count": 3,
     "metadata": {},
     "output_type": "execute_result"
    }
   ],
   "source": [
    "x < 200"
   ]
  },
  {
   "cell_type": "code",
   "execution_count": 4,
   "id": "b808922e",
   "metadata": {},
   "outputs": [
    {
     "data": {
      "text/plain": [
       "True"
      ]
     },
     "execution_count": 4,
     "metadata": {},
     "output_type": "execute_result"
    }
   ],
   "source": [
    "x == 301   # Check for equality"
   ]
  },
  {
   "cell_type": "code",
   "execution_count": 5,
   "id": "4e74976e",
   "metadata": {},
   "outputs": [
    {
     "data": {
      "text/plain": [
       "False"
      ]
     },
     "execution_count": 5,
     "metadata": {},
     "output_type": "execute_result"
    }
   ],
   "source": [
    "x == 174"
   ]
  },
  {
   "cell_type": "code",
   "execution_count": 6,
   "id": "b8ceea8d",
   "metadata": {},
   "outputs": [
    {
     "data": {
      "text/plain": [
       "True"
      ]
     },
     "execution_count": 6,
     "metadata": {},
     "output_type": "execute_result"
    }
   ],
   "source": [
    "x != 300 # Check if not equals"
   ]
  },
  {
   "cell_type": "markdown",
   "id": "46583e10",
   "metadata": {},
   "source": [
    "As an example of an if statement that uses a boolean, let's consider a method that figures out if a number is even or odd"
   ]
  },
  {
   "cell_type": "code",
   "execution_count": 8,
   "id": "1e5d4a4f",
   "metadata": {},
   "outputs": [
    {
     "name": "stdout",
     "output_type": "stream",
     "text": [
      "False\n"
     ]
    }
   ],
   "source": [
    "def is_even(x):\n",
    "    result = False\n",
    "    if x % 2 == 0: # x \"mod 2\", the remainder of dividing x by 2\n",
    "        result = True\n",
    "    return result\n",
    "\n",
    "print(is_even(301))"
   ]
  },
  {
   "cell_type": "code",
   "execution_count": 9,
   "id": "701cedd0",
   "metadata": {},
   "outputs": [
    {
     "name": "stdout",
     "output_type": "stream",
     "text": [
      "True\n"
     ]
    }
   ],
   "source": [
    "print(is_even(174))"
   ]
  },
  {
   "cell_type": "markdown",
   "id": "f7926b85",
   "metadata": {},
   "source": [
    "Earthquake example"
   ]
  },
  {
   "cell_type": "code",
   "execution_count": 17,
   "id": "45ef2417",
   "metadata": {},
   "outputs": [
    {
     "name": "stdout",
     "output_type": "stream",
     "text": [
      "Many buildings are damaged\n"
     ]
    }
   ],
   "source": [
    "def get_damage(richter):\n",
    "    \"\"\"\n",
    "    Given a measurement on the richter scale, print out\n",
    "    information about the damage to expect\n",
    "    \"\"\"\n",
    "    # \"if elif else sandwich\"\n",
    "    # start with an \"if\", you can have as many elif statements as you want\n",
    "    # if you want, you can end with an \"else\" statement which catches the \n",
    "    # result if all ifs and elifs fail\n",
    "    if richter >= 8:\n",
    "        print(\"Everything collapses\")\n",
    "    elif richter >= 7: # Otherwise, if richter not >= 8\n",
    "        print(\"Many buildings collapse\")\n",
    "    elif richter >= 6: # Otherwise, if richter is not >= 7\n",
    "        print(\"Many buildings are damaged\")\n",
    "    elif richter >= 4.5: # Otherwise, if richter is not >= 6\n",
    "        print(\"Only poorly constructed buildings are damaged\")\n",
    "    else: # If richter is not >= 4.5\n",
    "        print(\"We're cool\")\n",
    "\n",
    "get_damage(6.5)"
   ]
  },
  {
   "cell_type": "markdown",
   "id": "2b0dcb02",
   "metadata": {},
   "source": [
    "Some building contractors are superstitious about having a thirteenth floor, so they just skip on the elevator buttons.  We want a method to convert the elevator floor number into the \"actual floor\" number, which is truly how many floors up this is"
   ]
  },
  {
   "cell_type": "code",
   "execution_count": 25,
   "id": "bd81724c",
   "metadata": {},
   "outputs": [
    {
     "name": "stdout",
     "output_type": "stream",
     "text": [
      "12\n"
     ]
    }
   ],
   "source": [
    "def get_actual_floor(elevator_floor):\n",
    "    actual_floor = elevator_floor\n",
    "    if elevator_floor > 13:\n",
    "        actual_floor = elevator_floor\n",
    "        actual_floor = actual_floor - 1\n",
    "    if elevator_floor == 13:\n",
    "        print(\"Warning!  We didn't expect to see an elevator button with 13\")\n",
    "    return actual_floor\n",
    "\n",
    "print(get_actual_floor(12))"
   ]
  },
  {
   "cell_type": "markdown",
   "id": "a0dc931f",
   "metadata": {},
   "source": [
    "# Compound If Statement\n",
    "\n",
    "I want to print \"Hello\" if a string starts with a \"c\" and ends with an \"s\"\n"
   ]
  },
  {
   "cell_type": "code",
   "execution_count": 31,
   "id": "92171766",
   "metadata": {},
   "outputs": [
    {
     "data": {
      "text/plain": [
       "'s'"
      ]
     },
     "execution_count": 31,
     "metadata": {},
     "output_type": "execute_result"
    }
   ],
   "source": [
    "s = \"chris\""
   ]
  },
  {
   "cell_type": "code",
   "execution_count": 42,
   "id": "db14c250",
   "metadata": {},
   "outputs": [
    {
     "name": "stdout",
     "output_type": "stream",
     "text": [
      "Hello\n"
     ]
    }
   ],
   "source": [
    "def print_info(s):\n",
    "    if s[0] == \"c\":\n",
    "        if s[-1] == \"s\":\n",
    "            print(\"Hello\")\n",
    "\n",
    "def print_info(s):\n",
    "    if s[0] == \"c\" and s[-1] == \"s\":\n",
    "        print(\"Hello\")\n",
    "\n",
    "def print_info2(s):\n",
    "    if s[0] == \"c\" or s[-1] == \"s\":\n",
    "        print(\"Hello\")\n",
    "            \n",
    "print_info2(\"pythons\")"
   ]
  },
  {
   "cell_type": "code",
   "execution_count": 46,
   "id": "36616758",
   "metadata": {},
   "outputs": [
    {
     "name": "stdout",
     "output_type": "stream",
     "text": [
      "False\n"
     ]
    }
   ],
   "source": [
    "def go_outside(temp):\n",
    "    \"\"\"\n",
    "    I will go outside if it's between 60 degrees and 75 degrees\n",
    "    \n",
    "    Parameters\n",
    "    ----------\n",
    "    temp: int\n",
    "        The temperature in degrees Fahrenheit\n",
    "    \"\"\"\n",
    "    result = False\n",
    "    if temp >= 60 and temp <=75:\n",
    "        result = True\n",
    "    return result\n",
    "\n",
    "print(go_outside(55))"
   ]
  },
  {
   "cell_type": "code",
   "execution_count": null,
   "id": "1166917c",
   "metadata": {},
   "outputs": [],
   "source": [
    "def quadratic_formula(a, b, c):\n",
    "    discrim = b**2 - 4*a*c\n",
    "    sol1 = (-b + discrim**0.5)/(2*a)\n",
    "    sol2 = (-b - discrim**0.5)/(2*a)\n",
    "    return sol1, sol2"
   ]
  }
 ],
 "metadata": {
  "kernelspec": {
   "display_name": "Python 3 (ipykernel)",
   "language": "python",
   "name": "python3"
  },
  "language_info": {
   "codemirror_mode": {
    "name": "ipython",
    "version": 3
   },
   "file_extension": ".py",
   "mimetype": "text/x-python",
   "name": "python",
   "nbconvert_exporter": "python",
   "pygments_lexer": "ipython3",
   "version": "3.9.13"
  }
 },
 "nbformat": 4,
 "nbformat_minor": 5
}
