{
 "cells": [
  {
   "cell_type": "markdown",
   "id": "2133b503",
   "metadata": {},
   "source": [
    "# Loops\n",
    "\n",
    "A loop is a structure that we use to repeat code with minor variations many times over again until some condition is satisfied"
   ]
  },
  {
   "cell_type": "code",
   "execution_count": 1,
   "id": "8c658027",
   "metadata": {},
   "outputs": [],
   "source": [
    "import numpy as np\n",
    "import matplotlib.pyplot as plt\n",
    "import IPython.display as ipd"
   ]
  },
  {
   "cell_type": "markdown",
   "id": "51fec925",
   "metadata": {},
   "source": [
    "Arithmetic series"
   ]
  },
  {
   "cell_type": "code",
   "execution_count": 4,
   "id": "d6056e65",
   "metadata": {},
   "outputs": [
    {
     "name": "stdout",
     "output_type": "stream",
     "text": [
      "0\n",
      "1\n",
      "2\n",
      "3\n",
      "4\n",
      "5\n",
      "6\n",
      "7\n",
      "8\n",
      "9\n"
     ]
    }
   ],
   "source": [
    "for i in range(10): # Creates a variable called i which starts at 0, increments by 1\n",
    "    # and then stops right before 10\n",
    "    print(i)"
   ]
  },
  {
   "cell_type": "code",
   "execution_count": null,
   "id": "2f9b5d9f",
   "metadata": {},
   "outputs": [],
   "source": [
    "def arithmetic_series(N):\n",
    "    \"\"\"\n",
    "    Sum up the numberes from 1 + 2 + 3 + ... + N\n",
    "    \n",
    "    Parameters\n",
    "    ----------\n",
    "    N: int\n",
    "        Last number to add\n",
    "    \"\"\""
   ]
  }
 ],
 "metadata": {
  "kernelspec": {
   "display_name": "Python 3 (ipykernel)",
   "language": "python",
   "name": "python3"
  },
  "language_info": {
   "codemirror_mode": {
    "name": "ipython",
    "version": 3
   },
   "file_extension": ".py",
   "mimetype": "text/x-python",
   "name": "python",
   "nbconvert_exporter": "python",
   "pygments_lexer": "ipython3",
   "version": "3.9.13"
  }
 },
 "nbformat": 4,
 "nbformat_minor": 5
}
